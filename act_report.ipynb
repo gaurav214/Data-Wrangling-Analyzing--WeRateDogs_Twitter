{
 "cells": [
  {
   "cell_type": "markdown",
   "metadata": {},
   "source": [
    "## Introduction\n",
    "\n",
    "This project was part of the data wrangling section of the Udacity Data Analyst Nanodegree program and is primarily focused on wrangling data from the \"WeRateDogs\"\" Twitter account using Python, documented in a Jupyter Notebook (wrangle_act.ipynb). This Twitter account rates dogs with humorous commentary. The rating denominator is usually 10, however, the numerators are usually greater than 10. This aspect was not cleaned as it is part of the humor and popularity of WeRateDogs.\n",
    "\n",
    "Our goal was to wrangle WeRateDogs Twitter data to create interesting and trustworthy analyses and visualizations"
   ]
  },
  {
   "cell_type": "markdown",
   "metadata": {},
   "source": [
    "## Project Details\n",
    "\n",
    "\n",
    "Our tasks in this project are as follows:\n",
    "\n",
    "* Data wrangling, which consists of:\n",
    " +Gathering data\n",
    " +Assessing data\n",
    " +Cleaning data\n",
    "* Storing, analyzing, and visualizing your wrangled data\n",
    "* Reporting on data wrangling efforts and data analyses and visualizations\n"
   ]
  },
  {
   "cell_type": "markdown",
   "metadata": {},
   "source": [
    "## Visualizations"
   ]
  },
  {
   "cell_type": "markdown",
   "metadata": {},
   "source": [
    "#### Different Sources for tweets:"
   ]
  },
  {
   "cell_type": "markdown",
   "metadata": {},
   "source": [
    "![Different Sources for tweets:](Different_Sources.png)"
   ]
  },
  {
   "cell_type": "markdown",
   "metadata": {},
   "source": [
    "* Analysis: Most of the users are iphone users. It was expected as people take their dog pictures from there phones and share them directly on twitter using there iphones."
   ]
  },
  {
   "cell_type": "markdown",
   "metadata": {},
   "source": [
    "#### Most Favorite Dogs of all time:"
   ]
  },
  {
   "cell_type": "markdown",
   "metadata": {},
   "source": [
    "![Top 20 Favorite Dogs](Favorite_Dogs.png)"
   ]
  },
  {
   "cell_type": "markdown",
   "metadata": {},
   "source": [
    "* In 2015, toy poodel was the most favorite with 6206 favorite counts ,but its popularity fall down drastically in 2016 , and Eskimo dog took its place with 13,519 favorite counts.\n",
    "\n",
    "* In 2016, Lakeland terrier became the most popular dog breed with 25,305 favorite counts and leaving a high margin for other breeds.\n",
    "\n",
    "* But when we compare the results of all time , suprisingly **French Bulldog** became the most popular dog breed with **19,733 Favorite Counts**."
   ]
  },
  {
   "cell_type": "markdown",
   "metadata": {},
   "source": [
    "#### Favorite Dog Stages:"
   ]
  },
  {
   "cell_type": "markdown",
   "metadata": {},
   "source": [
    "![Favorite Dogs Stages](Dog_stages.png)"
   ]
  },
  {
   "cell_type": "markdown",
   "metadata": {},
   "source": [
    "* Analysis: In 2015, Only pupper stage was introduced and till 2016, floofer was the favorite Dog stage. But starting from 2017, people favorite is leaning towards \"puppo\" dog stage.\n"
   ]
  },
  {
   "cell_type": "markdown",
   "metadata": {},
   "source": [
    "##### Based on above analysis i further conclude that common ratings and dog stages have a lower favorite count."
   ]
  },
  {
   "cell_type": "markdown",
   "metadata": {},
   "source": [
    "**Tableau Link:** https://public.tableau.com/profile/gaurav.negi4036#!/vizhome/WeRateDogAnalysis/WeAnalyseDogs"
   ]
  },
  {
   "cell_type": "code",
   "execution_count": null,
   "metadata": {},
   "outputs": [],
   "source": []
  }
 ],
 "metadata": {
  "kernelspec": {
   "display_name": "Python 3",
   "language": "python",
   "name": "python3"
  },
  "language_info": {
   "codemirror_mode": {
    "name": "ipython",
    "version": 3
   },
   "file_extension": ".py",
   "mimetype": "text/x-python",
   "name": "python",
   "nbconvert_exporter": "python",
   "pygments_lexer": "ipython3",
   "version": "3.6.4"
  }
 },
 "nbformat": 4,
 "nbformat_minor": 2
}
